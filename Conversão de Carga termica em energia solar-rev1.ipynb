{
 "cells": [
  {
   "cell_type": "code",
   "execution_count": 1,
   "id": "c95e0168",
   "metadata": {},
   "outputs": [],
   "source": [
    "import handcalcs.render\n",
    "import math as mt\n",
    "import numpy as np\n",
    "import pandas as pd\n",
    "import matplotlib.pyplot as plt\n",
    "import statistics as st\n",
    "import CoolProp \n",
    "import CoolProp.CoolProp as CP\n",
    "from CoolProp.CoolProp import Props\n",
    "from CoolProp.CoolProp import PropsSI\n",
    "from CoolProp.HumidAirProp import HAPropsSI"
   ]
  },
  {
   "cell_type": "markdown",
   "id": "fd9f1ea0",
   "metadata": {},
   "source": [
    "DADOS DE ENTRADA"
   ]
  },
  {
   "cell_type": "code",
   "execution_count": 2,
   "id": "c42e25b5",
   "metadata": {},
   "outputs": [],
   "source": [
    "\n",
    "T_1=100 #°C-temperatura inferior\n",
    "T_1_Abs=T_1+273.15\n",
    "T_2=50 #°C-temperatura superior\n",
    "T_2_Abs=T_2+273.15\n",
    "T_p=60 #°C-temperatura da placa\n",
    "T_p_Abs=T_p+273.15\n",
    "T_a=20 #°C -temperatura do ar ambiente\n",
    "T_a_Abs=T_a+273.15\n",
    "epsilon_vidro=0.005 #m - espessura do vidro(borosilicato)\n",
    "epsilon_placaevidro=0.02 #m-espaçamento entre a placa e a cobertura de vidro\n",
    "epsilon_la= 0.03 #m-isolamento de ã de vidro\n",
    "beta_vi= 30 #° -inclinação da placa \n",
    "g=9.81 #gravidade\n",
    "#considerando a umidade relativa como 60%\n",
    "A_1=1\n",
    "A_2=A_1\n",
    "F_12=1\n",
    "sigma=5.667*10**-8"
   ]
  },
  {
   "cell_type": "markdown",
   "id": "9b8bbba4",
   "metadata": {},
   "source": [
    "DADOS TERMODINÂMICOS"
   ]
  },
  {
   "cell_type": "code",
   "execution_count": 3,
   "id": "569a28ac",
   "metadata": {},
   "outputs": [],
   "source": [
    "\n",
    "k=30.0*10**-3 #W/mK \n",
    "beta_linha=2.874*10**-3 #K**-1\n",
    "nu= 20.92*10**-6 #m**2/s\n",
    "alpha = 29.9*10**-6 #m**2/s"
   ]
  },
  {
   "cell_type": "markdown",
   "id": "02afcc51",
   "metadata": {},
   "source": [
    "VALORES RETIRADAS DA UMIDADE DO AR "
   ]
  },
  {
   "cell_type": "code",
   "execution_count": 4,
   "id": "7f8dce25",
   "metadata": {},
   "outputs": [
    {
     "data": {
      "text/plain": [
       "288.24271067253216"
      ]
     },
     "execution_count": 4,
     "metadata": {},
     "output_type": "execute_result"
    }
   ],
   "source": [
    "h = HAPropsSI('H','T',T_a_Abs,'P',101325,'R',0.6)\n",
    "T_db  = HAPropsSI('T','P',101325,'H',h,'R',1.0)\n",
    "T_db"
   ]
  },
  {
   "cell_type": "markdown",
   "id": "fe0347b4",
   "metadata": {},
   "source": [
    "Gcd=q_te+q_tr1+q_tc1+q_tk\n"
   ]
  },
  {
   "cell_type": "markdown",
   "id": "b64ce006",
   "metadata": {},
   "source": [
    "Resistência Térmica Equivalente na Radiação"
   ]
  },
  {
   "cell_type": "code",
   "execution_count": null,
   "id": "d4569fae",
   "metadata": {},
   "outputs": [],
   "source": []
  },
  {
   "cell_type": "markdown",
   "id": "24e5809c",
   "metadata": {},
   "source": [
    "As placas são muito extensas quando comparadas com o seu espaçamento e se\n",
    "comportam como corpos negros"
   ]
  },
  {
   "cell_type": "markdown",
   "id": "44f650c1",
   "metadata": {},
   "source": [
    "POTÊNCIA EMISSIVA DE UM CORPO NEGRO "
   ]
  },
  {
   "cell_type": "code",
   "execution_count": 5,
   "id": "9b57d334",
   "metadata": {},
   "outputs": [
    {
     "data": {
      "text/latex": [
       "\\[\n",
       "\\begin{aligned}\n",
       "E_{b1} &= \\sigma \\cdot \\left( T_{1_{Abs}} \\right) ^{ 4 }  = 5.667 \\times 10 ^ {-8 } \\cdot \\left( 373.15 \\right) ^{ 4 } &= 1098.72  \n",
       "\\\\[10pt]\n",
       "E_{b2} &= \\sigma \\cdot \\left( T_{2_{Abs}} \\right) ^{ 4 }  = 5.667 \\times 10 ^ {-8 } \\cdot \\left( 323.15 \\right) ^{ 4 } &= 617.974  \n",
       "\\end{aligned}\n",
       "\\]"
      ],
      "text/plain": [
       "<IPython.core.display.Latex object>"
      ]
     },
     "metadata": {},
     "output_type": "display_data"
    }
   ],
   "source": [
    "%%render\n",
    "E_b1= sigma*T_1_Abs**4\n",
    "E_b2= sigma*T_2_Abs**4"
   ]
  },
  {
   "cell_type": "markdown",
   "id": "59ed48b4",
   "metadata": {},
   "source": [
    "EMISSIVIDADE DA SUPERFICIE"
   ]
  },
  {
   "cell_type": "code",
   "execution_count": 6,
   "id": "407ba3ec",
   "metadata": {},
   "outputs": [
    {
     "data": {
      "text/latex": [
       "\\[\n",
       "\\begin{aligned}\n",
       "E_{G1} &= 1098.72 \\; \n",
       "\\\\[10pt]\n",
       "E_{G2} &= 617.974 \\; \n",
       "\\\\[10pt]\n",
       "\\epsilon_{1} &= \\frac{ E_{G1} }{ \\sigma \\cdot \\left( T_{1_{Abs}} \\right) ^{ 4 } }  = \\frac{ 1098.72 }{ 5.667 \\times 10 ^ {-8 } \\cdot \\left( 373.15 \\right) ^{ 4 } } &= 1.0  \n",
       "\\\\[10pt]\n",
       "\\epsilon_{2} &= \\frac{ E_{G2} }{ \\sigma \\cdot \\left( T_{2_{Abs}} \\right) ^{ 4 } }  = \\frac{ 617.974 }{ 5.667 \\times 10 ^ {-8 } \\cdot \\left( 323.15 \\right) ^{ 4 } } &= 1.0  \n",
       "\\end{aligned}\n",
       "\\]"
      ],
      "text/plain": [
       "<IPython.core.display.Latex object>"
      ]
     },
     "metadata": {},
     "output_type": "display_data"
    }
   ],
   "source": [
    "%%render\n",
    "E_G1=E_b1\n",
    "E_G2=E_b2\n",
    "epsilon_1= (E_G1)/(sigma*T_1_Abs**4)\n",
    "epsilon_2= (E_G2)/(sigma*T_2_Abs**4)"
   ]
  },
  {
   "cell_type": "code",
   "execution_count": 7,
   "id": "8b05f332",
   "metadata": {},
   "outputs": [
    {
     "data": {
      "text/latex": [
       "\\[\n",
       "\\begin{aligned}\n",
       "h_{r} &= \\frac{ \\sigma \\cdot \\left( \\left( T_{2_{Abs}} \\right) ^{ 2 } + \\left( T_{1_{Abs}} \\right) ^{ 2 } \\right) \\cdot \\left( T_{2_{Abs}} + T_{1_{Abs}} \\right) }{ \\left( \\frac{ 1 - \\epsilon_{1} }{ \\epsilon_{1} } \\right) + \\left( \\frac{ 1 }{ F_{12} } \\right) + \\frac{ \\left( 1 - \\epsilon_{2} \\right) \\cdot A_{1} }{ \\epsilon_{2} \\cdot A_{2} } } \\\\&= \\frac{ 5.667 \\times 10 ^ {-8 } \\cdot \\left( \\left( 323.15 \\right) ^{ 2 } + \\left( 373.15 \\right) ^{ 2 } \\right) \\cdot \\left( 323.15 + 373.15 \\right) }{ \\left( \\frac{ 1 - 1.0 }{ 1.0 } \\right) + \\left( \\frac{ 1 }{ 1 } \\right) + \\frac{ \\left( 1 - 1.0 \\right) \\cdot 1 }{ 1.0 \\cdot 1 } } \\\\&= 9.615  \\\\\n",
       "\\\\[10pt]\n",
       "R_{T} &= \\frac{ 1 }{ h_{r} }  = \\frac{ 1 }{ 9.615 } &= 0.104  \n",
       "\\end{aligned}\n",
       "\\]"
      ],
      "text/plain": [
       "<IPython.core.display.Latex object>"
      ]
     },
     "metadata": {},
     "output_type": "display_data"
    }
   ],
   "source": [
    "%%render\n",
    "\n",
    "h_r= (sigma*(T_2_Abs**2+T_1_Abs**2)*(T_2_Abs+T_1_Abs))/(((1-epsilon_1)/epsilon_1)+(1/F_12)+((1-epsilon_2)*A_1)/(epsilon_2*A_2)) \n",
    "R_T= 1/h_r"
   ]
  },
  {
   "cell_type": "code",
   "execution_count": null,
   "id": "bc516eb5",
   "metadata": {},
   "outputs": [],
   "source": []
  },
  {
   "cell_type": "code",
   "execution_count": 8,
   "id": "84a80bd5",
   "metadata": {},
   "outputs": [
    {
     "data": {
      "text/plain": [
       "0.0028740000000000003"
      ]
     },
     "execution_count": 8,
     "metadata": {},
     "output_type": "execute_result"
    }
   ],
   "source": [
    "\n",
    "beta_linha"
   ]
  },
  {
   "cell_type": "markdown",
   "id": "37f998d8",
   "metadata": {},
   "source": [
    "Numero de Prandt"
   ]
  },
  {
   "cell_type": "code",
   "execution_count": 9,
   "id": "17674e5a",
   "metadata": {},
   "outputs": [],
   "source": [
    "\n",
    "Pr = nu / alpha"
   ]
  },
  {
   "cell_type": "markdown",
   "id": "2a4053c0",
   "metadata": {},
   "source": [
    "Numero de Grashof"
   ]
  },
  {
   "cell_type": "code",
   "execution_count": 10,
   "id": "9bd06157",
   "metadata": {},
   "outputs": [],
   "source": [
    "\n",
    "L=epsilon_1\n",
    "Gr= (g*L**3*beta_linha*(T_1_Abs-T_2_Abs))/nu"
   ]
  },
  {
   "cell_type": "markdown",
   "id": "b01a48e1",
   "metadata": {},
   "source": [
    "Numero de Rayleigh -espaçamento de 0.02"
   ]
  },
  {
   "cell_type": "code",
   "execution_count": 11,
   "id": "0bcf2320",
   "metadata": {},
   "outputs": [],
   "source": [
    "L=epsilon_2\n",
    "Ra_1= (g*L**3*beta_linha*(T_1_Abs-T_2_Abs))/(nu*alpha) "
   ]
  },
  {
   "cell_type": "markdown",
   "id": "8dad49b7",
   "metadata": {},
   "source": [
    "Numero de Rayleigh -espaçamento de 0.02"
   ]
  },
  {
   "cell_type": "code",
   "execution_count": 12,
   "id": "bc75b628",
   "metadata": {},
   "outputs": [],
   "source": [
    "epsilon_1\n",
    "Ra_2= (g*L**3*beta_linha*(T_1_Abs-T_2_Abs))/(nu*alpha) "
   ]
  },
  {
   "cell_type": "markdown",
   "id": "cf4d94e2",
   "metadata": {},
   "source": [
    "Numero de Holland\n"
   ]
  },
  {
   "cell_type": "code",
   "execution_count": 13,
   "id": "430fb4cd",
   "metadata": {},
   "outputs": [],
   "source": [
    "\n",
    "Nu_h_1= 1+1.44*(1-(1708)/(Ra_1*np.cos(np.radians(beta_vi))))*(1-(1708)/(Ra_1*np.cos(np.radians(beta_vi)))*np.sin(np.radians(beta_vi*1.8)**1.6))+((Ra_1*np.cos(np.radians(beta_vi))/5830)**(1/3)-1)"
   ]
  },
  {
   "cell_type": "markdown",
   "id": "ecb695f9",
   "metadata": {},
   "source": [
    "Temperatura do ceu (SKY)"
   ]
  },
  {
   "cell_type": "code",
   "execution_count": 19,
   "id": "b9e3ab03",
   "metadata": {},
   "outputs": [
    {
     "data": {
      "text/latex": [
       "\\[\n",
       "\\begin{aligned}\n",
       "T_{SKY_{1}} &= 0.0552 \\cdot \\left( T_{a_{Abs}} \\right) ^{ 1.5 }  = 0.0552 \\cdot \\left( 293.15 \\right) ^{ 1.5 } &= 277.06  \n",
       "\\end{aligned}\n",
       "\\]"
      ],
      "text/plain": [
       "<IPython.core.display.Latex object>"
      ]
     },
     "metadata": {},
     "output_type": "display_data"
    }
   ],
   "source": [
    "%%render\n",
    "T_SKY_1= 0.0552*T_a_Abs**1.5"
   ]
  },
  {
   "cell_type": "code",
   "execution_count": 15,
   "id": "359244ac",
   "metadata": {},
   "outputs": [
    {
     "data": {
      "text/latex": [
       "\\[\n",
       "\\begin{aligned}\n",
       "T_{SKY_{2}} &= T_{a_{Abs}} \\cdot \\left( 0.8 + \\frac{ T_{db} - 273 }{ 250 } \\right) ^{ 0.25 }  = 293.15 \\cdot \\left( 0.8 + \\frac{ 288.243 - 273 }{ 250 } \\right) ^{ 0.25 } &= 282.382  \n",
       "\\end{aligned}\n",
       "\\]"
      ],
      "text/plain": [
       "<IPython.core.display.Latex object>"
      ]
     },
     "metadata": {},
     "output_type": "display_data"
    }
   ],
   "source": [
    "%%render\n",
    "\n",
    "T_SKY_2= T_a_Abs*(0.8+(T_db-273)/250)**0.25"
   ]
  },
  {
   "cell_type": "code",
   "execution_count": 16,
   "id": "db993976",
   "metadata": {},
   "outputs": [],
   "source": [
    "T_SKY=(T_SKY_1+T_SKY_2)/2"
   ]
  },
  {
   "cell_type": "markdown",
   "id": "98c9d863",
   "metadata": {},
   "source": [
    "Análise Coletor Solar Plano"
   ]
  },
  {
   "cell_type": "markdown",
   "id": "6bfd01d0",
   "metadata": {},
   "source": [
    "Placa - Vidro"
   ]
  },
  {
   "cell_type": "code",
   "execution_count": 17,
   "id": "1d66a9bd",
   "metadata": {},
   "outputs": [
    {
     "data": {
      "text/latex": [
       "\\[\n",
       "\\begin{aligned}\n",
       "T_{v_{Abs}} &= 1 \\; \n",
       "\\\\[10pt]\n",
       "h_{R1} &= \\frac{ \\sigma \\cdot \\left( \\left( T_{p_{Abs}} \\right) ^{ 2 } + \\left( T_{v_{Abs}} \\right) ^{ 2 } \\right) \\cdot \\left( T_{p_{Abs}} + T_{v_{Abs}} \\right) }{ \\left( \\frac{ 1 - \\epsilon_{placaevidro} }{ \\epsilon_{placaevidro} } \\right) + \\left( \\frac{ 1 }{ F_{12} } \\right) + \\frac{ 1 - \\epsilon_{vidro} }{ \\epsilon_{vidro} } } \\\\&= \\frac{ 5.667 \\times 10 ^ {-8 } \\cdot \\left( \\left( 333.15 \\right) ^{ 2 } + \\left( 1 \\right) ^{ 2 } \\right) \\cdot \\left( 333.15 + 1 \\right) }{ \\left( \\frac{ 1 - 0.02 }{ 0.02 } \\right) + \\left( \\frac{ 1 }{ 1 } \\right) + \\frac{ 1 - 0.005 }{ 0.005 } } \\\\&= 8.441 \\times 10 ^ {-3 }  \\\\\n",
       "\\\\[10pt]\n",
       "\\mathrm{RT}_{R1} &= 118.473 \\; \n",
       "\\end{aligned}\n",
       "\\]"
      ],
      "text/plain": [
       "<IPython.core.display.Latex object>"
      ]
     },
     "metadata": {},
     "output_type": "display_data"
    }
   ],
   "source": [
    "%%render\n",
    "T_v_Abs=1\n",
    "h_R1= (sigma*(T_p_Abs**2+T_v_Abs**2)*(T_p_Abs+T_v_Abs))/(((1-epsilon_placaevidro)/epsilon_placaevidro)+(1/F_12)+((1-epsilon_vidro))/(epsilon_vidro))\n",
    "RT_R1=1/h_R1"
   ]
  },
  {
   "cell_type": "markdown",
   "id": "de0a765d",
   "metadata": {},
   "source": [
    "Vidro - Céu"
   ]
  },
  {
   "cell_type": "code",
   "execution_count": 18,
   "id": "53cb8034",
   "metadata": {},
   "outputs": [
    {
     "data": {
      "text/latex": [
       "\\[\n",
       "\\begin{aligned}\n",
       "h_{R2} &= \\epsilon_{vidro} \\cdot \\sigma \\cdot \\left( \\left( T_{SKY} \\right) ^{ 2 } + \\left( T_{v_{Abs}} \\right) ^{ 2 } \\right) \\cdot \\left( T_{SKY} - T_{v_{Abs}} \\right) \\\\&= 0.005 \\cdot 5.667 \\times 10 ^ {-8 } \\cdot \\left( \\left( 279.721 \\right) ^{ 2 } + \\left( 1 \\right) ^{ 2 } \\right) \\cdot \\left( 279.721 - 1 \\right) \\\\&= 6.179 \\times 10 ^ {-3 }  \\\\\n",
       "\\\\[10pt]\n",
       "\\mathrm{RT}_{R2} &= 161.827 \\; \n",
       "\\end{aligned}\n",
       "\\]"
      ],
      "text/plain": [
       "<IPython.core.display.Latex object>"
      ]
     },
     "metadata": {},
     "output_type": "display_data"
    }
   ],
   "source": [
    "%%render\n",
    "h_R2= epsilon_vidro*sigma*(T_SKY**2+T_v_Abs**2)*(T_SKY-T_v_Abs)\n",
    "RT_R2=1/h_R2"
   ]
  },
  {
   "cell_type": "code",
   "execution_count": null,
   "id": "3addf8ed",
   "metadata": {},
   "outputs": [],
   "source": []
  },
  {
   "cell_type": "code",
   "execution_count": null,
   "id": "d413db33",
   "metadata": {},
   "outputs": [],
   "source": []
  }
 ],
 "metadata": {
  "kernelspec": {
   "display_name": "Python 3",
   "language": "python",
   "name": "python3"
  },
  "language_info": {
   "codemirror_mode": {
    "name": "ipython",
    "version": 3
   },
   "file_extension": ".py",
   "mimetype": "text/x-python",
   "name": "python",
   "nbconvert_exporter": "python",
   "pygments_lexer": "ipython3",
   "version": "3.8.5"
  }
 },
 "nbformat": 4,
 "nbformat_minor": 5
}
