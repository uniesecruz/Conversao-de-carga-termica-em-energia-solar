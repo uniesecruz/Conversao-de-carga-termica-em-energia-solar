{
 "cells": [
  {
   "cell_type": "code",
   "execution_count": 61,
   "id": "c95e0168",
   "metadata": {},
   "outputs": [],
   "source": [
    "import handcalcs.render\n",
    "import math as mt\n",
    "import numpy as np\n",
    "import pandas as pd\n",
    "import matplotlib.pyplot as plt\n",
    "import statistics as st\n",
    "import CoolProp \n",
    "import CoolProp.CoolProp as CP\n",
    "from CoolProp.CoolProp import Props\n",
    "from CoolProp.CoolProp import PropsSI\n",
    "from CoolProp.HumidAirProp import HAPropsSI"
   ]
  },
  {
   "cell_type": "markdown",
   "id": "fd9f1ea0",
   "metadata": {},
   "source": [
    "DADOS DE ENTRADA"
   ]
  },
  {
   "cell_type": "code",
   "execution_count": 102,
   "id": "c42e25b5",
   "metadata": {},
   "outputs": [],
   "source": [
    "\n",
    "T_1=100 #°C-temperatura inferior\n",
    "T_1_Abs=T_1+273.15\n",
    "T_2=50 #°C-temperatura superior\n",
    "T_2_Abs=T_2+273.15\n",
    "T_p=60 #°C-temperatura da placa\n",
    "T_p_Abs=T_p+273.15\n",
    "T_a=20 #°C -temperatura do ar ambiente\n",
    "T_a_Abs=T_a+273.15\n",
    "L_vidro=0.005 #m - espessura do vidro(borosilicato)\n",
    "L_placaevidro=0.02 #m-espaçamento entre a placa e a cobertura de vidro\n",
    "L_la= 0.03 #m-isolamento de lã de vidro\n",
    "epsilon_vidro=0.925 #m - Apendice A Incropera\n",
    "epsilon_placaaluminio=0.84 #Apendice A Incropera \n",
    "epsilon_1=0.2 #consideração do slide\n",
    "epsilon_2=0.8 #consideração do slide\n",
    "k_la= 0.045 #m-isolamento de lã de vidro Apendice A Incropera\n",
    "beta_vi= 23 #° -inclinação da placa \n",
    "g=9.81 #gravidade\n",
    "#considerando a umidade relativa como 60%\n",
    "A_1=1\n",
    "A_2=A_1\n",
    "F_12=1\n",
    "sigma=5.667*10**-8"
   ]
  },
  {
   "cell_type": "markdown",
   "id": "9b8bbba4",
   "metadata": {},
   "source": [
    "DADOS TERMODINÂMICOS"
   ]
  },
  {
   "cell_type": "code",
   "execution_count": 63,
   "id": "569a28ac",
   "metadata": {},
   "outputs": [],
   "source": [
    " \n",
    "k=30.0*10**-3 #W/mK \n",
    "beta_linha=2.874*10**-3 #K^-1\n",
    "nu= 20.92*10**-6 #m^2/s\n",
    "alpha = 29.9*10**-6 #m^2/s"
   ]
  },
  {
   "cell_type": "markdown",
   "id": "02afcc51",
   "metadata": {},
   "source": [
    "VALORES RETIRADAS DA UMIDADE DO AR "
   ]
  },
  {
   "cell_type": "code",
   "execution_count": 64,
   "id": "7f8dce25",
   "metadata": {},
   "outputs": [
    {
     "data": {
      "text/plain": [
       "284.34999999999997"
      ]
     },
     "execution_count": 64,
     "metadata": {},
     "output_type": "execute_result"
    }
   ],
   "source": [
    "T_carta=11.2\n",
    "T_db=T_carta+273.15\n",
    "T_db"
   ]
  },
  {
   "cell_type": "markdown",
   "id": "17608b2b",
   "metadata": {},
   "source": [
    "TEMPERATURA DO CEU PARAMETRO 1"
   ]
  },
  {
   "cell_type": "code",
   "execution_count": 65,
   "id": "b9e3ab03",
   "metadata": {},
   "outputs": [],
   "source": [
    "\n",
    "T_SKY_1= 0.0552*T_a_Abs**1.5"
   ]
  },
  {
   "cell_type": "markdown",
   "id": "a937a88a",
   "metadata": {},
   "source": [
    "TEMPERATURA DO CEU PARAMETRO 2"
   ]
  },
  {
   "cell_type": "code",
   "execution_count": 66,
   "id": "359244ac",
   "metadata": {},
   "outputs": [],
   "source": [
    "\n",
    "\n",
    "T_SKY_2= T_a_Abs*(0.8+(T_db-273)/250)**0.25"
   ]
  },
  {
   "cell_type": "markdown",
   "id": "f378476a",
   "metadata": {},
   "source": [
    "TEMPERATURA DO CEU(T_SKY)"
   ]
  },
  {
   "cell_type": "code",
   "execution_count": 67,
   "id": "db993976",
   "metadata": {},
   "outputs": [],
   "source": [
    "\n",
    "T_SKY= (T_SKY_1+T_SKY_2)/2"
   ]
  },
  {
   "cell_type": "markdown",
   "id": "fc02b217",
   "metadata": {},
   "source": [
    "RESISTÊNCIA TERMICA POR RADIAÇÃO VIDRO-CEU"
   ]
  },
  {
   "cell_type": "code",
   "execution_count": 68,
   "id": "53cb8034",
   "metadata": {},
   "outputs": [],
   "source": [
    "\n",
    "h_R2= epsilon_vidro*sigma*(T_SKY**2+T_1_Abs**2)*(T_SKY+T_1_Abs)\n",
    "\n"
   ]
  },
  {
   "cell_type": "code",
   "execution_count": 69,
   "id": "da0a5b70",
   "metadata": {},
   "outputs": [],
   "source": [
    "\n",
    "RT_R2= 1/h_R2"
   ]
  },
  {
   "cell_type": "markdown",
   "id": "fe0347b4",
   "metadata": {},
   "source": [
    "Gcd=q_te+q_tr1+q_tc1+q_tk\n"
   ]
  },
  {
   "cell_type": "markdown",
   "id": "b64ce006",
   "metadata": {},
   "source": [
    "Resistência Térmica Equivalente na Radiação"
   ]
  },
  {
   "cell_type": "markdown",
   "id": "24e5809c",
   "metadata": {},
   "source": [
    "As placas são muito extensas quando comparadas com o seu espaçamento e se\n",
    "comportam como corpos negros"
   ]
  },
  {
   "cell_type": "markdown",
   "id": "44f650c1",
   "metadata": {},
   "source": [
    "POTÊNCIA EMISSIVA DE UM CORPO NEGRO "
   ]
  },
  {
   "cell_type": "code",
   "execution_count": 70,
   "id": "9b57d334",
   "metadata": {},
   "outputs": [
    {
     "data": {
      "text/latex": [
       "\\[\n",
       "\\begin{aligned}\n",
       "E_{b1} &= \\sigma \\cdot \\left( T_{1_{Abs}} \\right) ^{ 4 }  = 5.667 \\times 10 ^ {-8 } \\cdot \\left( 373.15 \\right) ^{ 4 } &= 1098.72  \n",
       "\\\\[10pt]\n",
       "E_{b2} &= \\sigma \\cdot \\left( T_{2_{Abs}} \\right) ^{ 4 }  = 5.667 \\times 10 ^ {-8 } \\cdot \\left( 323.15 \\right) ^{ 4 } &= 617.974  \n",
       "\\end{aligned}\n",
       "\\]"
      ],
      "text/plain": [
       "<IPython.core.display.Latex object>"
      ]
     },
     "metadata": {},
     "output_type": "display_data"
    }
   ],
   "source": [
    "%%render\n",
    "E_b1= sigma*T_1_Abs**4\n",
    "E_b2= sigma*T_2_Abs**4"
   ]
  },
  {
   "cell_type": "markdown",
   "id": "59ed48b4",
   "metadata": {},
   "source": [
    "EMISSIVIDADE PLACA-VIDRO"
   ]
  },
  {
   "cell_type": "code",
   "execution_count": 71,
   "id": "8b05f332",
   "metadata": {},
   "outputs": [
    {
     "data": {
      "text/latex": [
       "\\[\n",
       "\\begin{aligned}\n",
       "h_{r} &= \\frac{ \\sigma \\cdot \\left( \\left( T_{2_{Abs}} \\right) ^{ 2 } + \\left( T_{1_{Abs}} \\right) ^{ 2 } \\right) \\cdot \\left( T_{2_{Abs}} + T_{1_{Abs}} \\right) }{ \\left( \\frac{ 1 - \\epsilon_{placaaluminio} }{ \\epsilon_{placaaluminio} } \\right) + \\left( \\frac{ 1 }{ F_{12} } \\right) + \\frac{ \\left( 1 - \\epsilon_{vidro} \\right) \\cdot A_{1} }{ \\epsilon_{vidro} \\cdot A_{2} } } \\\\&= \\frac{ 5.667 \\times 10 ^ {-8 } \\cdot \\left( \\left( 323.15 \\right) ^{ 2 } + \\left( 373.15 \\right) ^{ 2 } \\right) \\cdot \\left( 323.15 + 373.15 \\right) }{ \\left( \\frac{ 1 - 0.84 }{ 0.84 } \\right) + \\left( \\frac{ 1 }{ 1 } \\right) + \\frac{ \\left( 1 - 0.925 \\right) \\cdot 1 }{ 0.925 \\cdot 1 } } \\\\&= 7.562  \\\\\n",
       "\\\\[10pt]\n",
       "R_{T} &= \\frac{ 1 }{ h_{r} }  = \\frac{ 1 }{ 7.562 } &= 1.322 \\times 10 ^ {-1 }  \n",
       "\\end{aligned}\n",
       "\\]"
      ],
      "text/plain": [
       "<IPython.core.display.Latex object>"
      ]
     },
     "metadata": {},
     "output_type": "display_data"
    }
   ],
   "source": [
    "%%render\n",
    "\n",
    "h_r= (sigma*(T_2_Abs**2+T_1_Abs**2)*(T_2_Abs+T_1_Abs))/(((1-epsilon_placaaluminio)/epsilon_placaaluminio)+(1/F_12)+((1-epsilon_vidro)*A_1)/(epsilon_vidro*A_2)) \n",
    "R_T= 1/h_r"
   ]
  },
  {
   "cell_type": "code",
   "execution_count": 72,
   "id": "84a80bd5",
   "metadata": {},
   "outputs": [
    {
     "data": {
      "text/plain": [
       "0.0028740000000000003"
      ]
     },
     "execution_count": 72,
     "metadata": {},
     "output_type": "execute_result"
    }
   ],
   "source": [
    "\n",
    "beta_linha"
   ]
  },
  {
   "cell_type": "markdown",
   "id": "b36a945b",
   "metadata": {},
   "source": [
    "Resistências Térmicas de Convecção"
   ]
  },
  {
   "cell_type": "markdown",
   "id": "37f998d8",
   "metadata": {},
   "source": [
    "Numero de Prandt"
   ]
  },
  {
   "cell_type": "code",
   "execution_count": 106,
   "id": "17674e5a",
   "metadata": {},
   "outputs": [],
   "source": [
    "\n",
    "Pr = nu / alpha"
   ]
  },
  {
   "cell_type": "markdown",
   "id": "2a4053c0",
   "metadata": {},
   "source": [
    "Numero de Grashof"
   ]
  },
  {
   "cell_type": "code",
   "execution_count": 105,
   "id": "9bd06157",
   "metadata": {},
   "outputs": [],
   "source": [
    "\n",
    "Gr= (g*L_placaevidro**3*beta_linha*(T_1_Abs-T_2_Abs))/nu"
   ]
  },
  {
   "cell_type": "code",
   "execution_count": 104,
   "id": "0bcf2320",
   "metadata": {},
   "outputs": [],
   "source": [
    "\n",
    "Ra_1= (g*L_placaevidro**3*beta_linha*(T_1_Abs-T_2_Abs))/(nu*alpha) "
   ]
  },
  {
   "cell_type": "markdown",
   "id": "8dad49b7",
   "metadata": {},
   "source": [
    "Numero de Rayleigh -espaçamento de 0.02"
   ]
  },
  {
   "cell_type": "markdown",
   "id": "cf4d94e2",
   "metadata": {},
   "source": [
    "Numero de Holland\n"
   ]
  },
  {
   "cell_type": "code",
   "execution_count": 103,
   "id": "430fb4cd",
   "metadata": {},
   "outputs": [],
   "source": [
    "\n",
    "Nu_h_1= 1+1.44*(1-(1708)/(Ra_1*np.cos(np.radians(beta_vi))))*(1-(1708)/(Ra_1*np.cos(np.radians(beta_vi)))*np.sin(np.radians(beta_vi*1.8)**1.6))+((Ra_1*np.cos(np.radians(beta_vi))/5830)**(1/3)-1)"
   ]
  },
  {
   "cell_type": "markdown",
   "id": "98c9d863",
   "metadata": {},
   "source": [
    "Análise Coletor Solar Plano"
   ]
  },
  {
   "cell_type": "markdown",
   "id": "6bfd01d0",
   "metadata": {},
   "source": [
    "Placa - Vidro"
   ]
  },
  {
   "cell_type": "code",
   "execution_count": 77,
   "id": "642909e2",
   "metadata": {},
   "outputs": [
    {
     "data": {
      "text/latex": [
       "\\[\n",
       "\\begin{aligned}\n",
       "h_{c} &= \\Nu_{h_{1}} \\cdot k \\cdot L_{placaevidro}  = 2.635 \\cdot 0.03 \\cdot 0.02 &= 1.581 \\times 10 ^ {-3 }  \n",
       "\\end{aligned}\n",
       "\\]"
      ],
      "text/plain": [
       "<IPython.core.display.Latex object>"
      ]
     },
     "metadata": {},
     "output_type": "display_data"
    }
   ],
   "source": [
    "%%render\n",
    "h_c= Nu_h_1*k*L_placaevidro"
   ]
  },
  {
   "cell_type": "code",
   "execution_count": 78,
   "id": "8b63365e",
   "metadata": {},
   "outputs": [
    {
     "data": {
      "text/latex": [
       "\\[\n",
       "\\begin{aligned}\n",
       "\\mathrm{Rtc} &= \\frac{ 1 }{ h_{c} }  = \\frac{ 1 }{ 1.581 \\times 10 ^ {-3 } } &= 632.611  \n",
       "\\end{aligned}\n",
       "\\]"
      ],
      "text/plain": [
       "<IPython.core.display.Latex object>"
      ]
     },
     "metadata": {},
     "output_type": "display_data"
    }
   ],
   "source": [
    "%%render\n",
    "Rtc= 1/h_c"
   ]
  },
  {
   "cell_type": "code",
   "execution_count": 101,
   "id": "3f689f70",
   "metadata": {},
   "outputs": [
    {
     "data": {
      "text/latex": [
       "\\[\n",
       "\\begin{aligned}\n",
       "\\mathrm{qc} &= h_{c} \\cdot \\left( T_{2} - T_{1} \\right)  = 1.581 \\times 10 ^ {-3 } \\cdot \\left( 50 - 100 \\right) &= -0.079  \n",
       "\\end{aligned}\n",
       "\\]"
      ],
      "text/plain": [
       "<IPython.core.display.Latex object>"
      ]
     },
     "metadata": {},
     "output_type": "display_data"
    }
   ],
   "source": [
    "%%render\n",
    "qc= h_c*(T_2-T_1)"
   ]
  },
  {
   "cell_type": "markdown",
   "id": "d9ea6e4d",
   "metadata": {},
   "source": [
    "Resistência Térmica Equivalente na Radiação"
   ]
  },
  {
   "cell_type": "code",
   "execution_count": 99,
   "id": "1d66a9bd",
   "metadata": {},
   "outputs": [
    {
     "data": {
      "text/latex": [
       "\\[\n",
       "\\begin{aligned}\n",
       "h_{R1} &= \\frac{ \\sigma \\cdot \\left( \\left( T_{2_{Abs}} \\right) ^{ 2 } + \\left( T_{1_{Abs}} \\right) ^{ 2 } \\right) \\cdot \\left( T_{2_{Abs}} + T_{1_{Abs}} \\right) }{ \\left( \\frac{ 1 - \\epsilon_{1} }{ \\epsilon_{1} } \\right) + \\left( \\frac{ 1 }{ F_{12} } \\right) + \\frac{ 1 - \\epsilon_{2} }{ \\epsilon_{2} } } \\\\&= \\frac{ 5.667 \\times 10 ^ {-8 } \\cdot \\left( \\left( 323.15 \\right) ^{ 2 } + \\left( 373.15 \\right) ^{ 2 } \\right) \\cdot \\left( 323.15 + 373.15 \\right) }{ \\left( \\frac{ 1 - 0.2 }{ 0.2 } \\right) + \\left( \\frac{ 1 }{ 1 } \\right) + \\frac{ 1 - 0.8 }{ 0.8 } } \\\\&= 1.831  \\\\\n",
       "\\end{aligned}\n",
       "\\]"
      ],
      "text/plain": [
       "<IPython.core.display.Latex object>"
      ]
     },
     "metadata": {},
     "output_type": "display_data"
    }
   ],
   "source": [
    "%%render\n",
    "\n",
    "h_R1= (sigma*(T_p_Abs**2+T_1_Abs**2)*(T_2_Abs+T_1_Abs))/(((1-epsilon_1)/epsilon_1)+(1/F_12)+((1-epsilon_2))/(epsilon_2))\n"
   ]
  },
  {
   "cell_type": "code",
   "execution_count": 100,
   "id": "68ed37e5",
   "metadata": {},
   "outputs": [
    {
     "data": {
      "text/latex": [
       "\\[\n",
       "\\begin{aligned}\n",
       "Q_{r12} &= h_{R1} \\cdot \\left( T_{2} - T_{1} \\right)  = 1.831 \\cdot \\left( 50 - 100 \\right) &= -91.571 \\; \\;\\textrm{(W/m^2)}\n",
       "\\end{aligned}\n",
       "\\]"
      ],
      "text/plain": [
       "<IPython.core.display.Latex object>"
      ]
     },
     "metadata": {},
     "output_type": "display_data"
    }
   ],
   "source": [
    "%%render\n",
    "Q_r12= h_R1*(T_2-T_1) #W/m^2"
   ]
  },
  {
   "cell_type": "markdown",
   "id": "de0a765d",
   "metadata": {},
   "source": [
    "Vidro - Céu"
   ]
  },
  {
   "cell_type": "code",
   "execution_count": 107,
   "id": "6793ecb6",
   "metadata": {},
   "outputs": [],
   "source": [
    "T_v_Abs=503.13"
   ]
  },
  {
   "cell_type": "markdown",
   "id": "96d18114",
   "metadata": {},
   "source": [
    "Resistências Térmicas por Radiação\n",
    "Placa - Vidro"
   ]
  },
  {
   "cell_type": "code",
   "execution_count": 109,
   "id": "d413db33",
   "metadata": {},
   "outputs": [
    {
     "name": "stdout",
     "output_type": "stream",
     "text": [
      "\\[\n",
      "\\begin{aligned}\n",
      "h_{R1} &= \\frac{ \\sigma \\cdot \\left( \\left( T_{p_{Abs}} \\right) ^{ 2 } + \\left( T_{v_{Abs}} \\right) ^{ 2 } \\right) \\cdot \\left( T_{p_{Abs}} + T_{v_{Abs}} \\right) }{ \\left( \\frac{ 1 - \\epsilon_{placaaluminio} }{ \\epsilon_{placaaluminio} } \\right) + \\left( \\frac{ 1 }{ F_{12} } \\right) + \\frac{ 1 - \\epsilon_{vidro} }{ \\epsilon_{vidro} } } \\\\&= \\frac{ 5.667 \\times 10 ^ {-8 } \\cdot \\left( \\left( 333.15 \\right) ^{ 2 } + \\left( 503.13 \\right) ^{ 2 } \\right) \\cdot \\left( 333.15 + 503.13 \\right) }{ \\left( \\frac{ 1 - 0.84 }{ 0.84 } \\right) + \\left( \\frac{ 1 }{ 1 } \\right) + \\frac{ 1 - 0.925 }{ 0.925 } } \\\\&= 13.571  \\\\\n",
      "\\end{aligned}\n",
      "\\]\n"
     ]
    }
   ],
   "source": [
    "%%tex\n",
    "\n",
    "h_R1= (sigma*(T_p_Abs**2+T_v_Abs**2)*(T_p_Abs+T_v_Abs))/(((1-epsilon_placaaluminio)/epsilon_placaaluminio)+(1/F_12)+((1-epsilon_vidro))/(epsilon_vidro))"
   ]
  },
  {
   "cell_type": "code",
   "execution_count": 113,
   "id": "d3e6bd93",
   "metadata": {},
   "outputs": [
    {
     "name": "stdout",
     "output_type": "stream",
     "text": [
      "\\[\n",
      "\\begin{aligned}\n",
      "\\mathrm{Tr} &= \\frac{ 1 }{ h_{R1} }  = \\frac{ 1 }{ 13.571 } &= 7.368 \\times 10 ^ {-2 }  \n",
      "\\end{aligned}\n",
      "\\]\n"
     ]
    }
   ],
   "source": [
    "%%tex\n",
    "Tr= 1/h_R1"
   ]
  },
  {
   "cell_type": "markdown",
   "id": "35112b52",
   "metadata": {},
   "source": [
    "Vidro - Céu"
   ]
  },
  {
   "cell_type": "code",
   "execution_count": 112,
   "id": "d7994862",
   "metadata": {},
   "outputs": [
    {
     "name": "stdout",
     "output_type": "stream",
     "text": [
      "\\[\n",
      "\\begin{aligned}\n",
      "h_{r2} &= \\epsilon_{vidro} \\cdot \\sigma \\cdot \\left( \\left( T_{SKY} \\right) ^{ 2 } + \\left( T_{v_{Abs}} \\right) ^{ 2 } \\right) \\cdot \\left( T_{SKY} + T_{v_{Abs}} \\right) \\\\&= 0.925 \\cdot 5.667 \\times 10 ^ {-8 } \\cdot \\left( \\left( 279.078 \\right) ^{ 2 } + \\left( 503.13 \\right) ^{ 2 } \\right) \\cdot \\left( 279.078 + 503.13 \\right) \\\\&= 13.573  \\\\\n",
      "\\end{aligned}\n",
      "\\]\n"
     ]
    }
   ],
   "source": [
    "%%tex\n",
    "h_r2= epsilon_vidro*sigma*(T_SKY**2+T_v_Abs**2)*(T_SKY+T_v_Abs)"
   ]
  },
  {
   "cell_type": "code",
   "execution_count": null,
   "id": "e692982d",
   "metadata": {},
   "outputs": [],
   "source": []
  },
  {
   "cell_type": "code",
   "execution_count": 114,
   "id": "728aaba1",
   "metadata": {},
   "outputs": [
    {
     "name": "stdout",
     "output_type": "stream",
     "text": [
      "\\[\n",
      "\\begin{aligned}\n",
      "\\mathrm{TR}_{2} &= \\frac{ 1 }{ h_{r2} }  = \\frac{ 1 }{ 13.573 } &= 7.368 \\times 10 ^ {-2 }  \n",
      "\\end{aligned}\n",
      "\\]\n"
     ]
    }
   ],
   "source": [
    "%%tex\n",
    "TR_2= 1/h_r2"
   ]
  },
  {
   "cell_type": "code",
   "execution_count": 116,
   "id": "9603d62d",
   "metadata": {},
   "outputs": [
    {
     "name": "stdout",
     "output_type": "stream",
     "text": [
      "\\[\n",
      "\\begin{aligned}\n",
      "R_{TK} &= \\frac{ L_{la} }{ k_{la} }  = \\frac{ 0.03 }{ 0.045 } &= 6.667 \\times 10 ^ {-1 }  \n",
      "\\end{aligned}\n",
      "\\]\n"
     ]
    }
   ],
   "source": [
    "%%tex\n",
    "R_TK= L_la/k_la"
   ]
  },
  {
   "cell_type": "code",
   "execution_count": 119,
   "id": "1e3dfbcc",
   "metadata": {},
   "outputs": [
    {
     "name": "stdout",
     "output_type": "stream",
     "text": [
      "\\[\n",
      "\\begin{aligned}\n",
      "Q_{k} &= \\frac{ T_{p_{Abs}} - T_{SKY} }{ \\mathrm{RTK} }  = \\frac{ 333.15 - 279.078 }{ 6.667 \\times 10 ^ {-1 } } &= 81.108  \n",
      "\\end{aligned}\n",
      "\\]\n"
     ]
    }
   ],
   "source": [
    "%%tex\n",
    "Q_k= (T_p_Abs-T_SKY)/RTK"
   ]
  },
  {
   "cell_type": "code",
   "execution_count": 123,
   "id": "cffd4db1",
   "metadata": {},
   "outputs": [],
   "source": [
    "\n",
    "Q_p=172.62"
   ]
  },
  {
   "cell_type": "code",
   "execution_count": 128,
   "id": "e6b84672",
   "metadata": {},
   "outputs": [
    {
     "name": "stdout",
     "output_type": "stream",
     "text": [
      "\\[\n",
      "\\begin{aligned}\n",
      "R_{te} &= \\frac{ T_{p_{Abs}} - T_{a_{Abs}} }{ Q_{p} }  = \\frac{ 333.15 - 293.15 }{ 172.62 } &= 2.317 \\times 10 ^ {-1 }  \n",
      "\\end{aligned}\n",
      "\\]\n"
     ]
    }
   ],
   "source": [
    "%%tex\n",
    "R_te= (T_p_Abs-T_a_Abs)/(Q_p)"
   ]
  },
  {
   "cell_type": "code",
   "execution_count": 130,
   "id": "6268f4e6",
   "metadata": {},
   "outputs": [
    {
     "name": "stdout",
     "output_type": "stream",
     "text": [
      "\\[\n",
      "\\begin{aligned}\n",
      "U_{L} &= \\frac{ 1 }{ R_{te} }  = \\frac{ 1 }{ 2.317 \\times 10 ^ {-1 } } &= 4.316  \n",
      "\\end{aligned}\n",
      "\\]\n"
     ]
    }
   ],
   "source": [
    "%%tex\n",
    "U_L= 1/R_te"
   ]
  },
  {
   "cell_type": "code",
   "execution_count": 134,
   "id": "44c012ec",
   "metadata": {},
   "outputs": [
    {
     "data": {
      "text/plain": [
       "array([10, 11, 12, 13, 14, 15, 16, 17, 18, 19, 20, 21, 22, 23, 24, 25, 26,\n",
       "       27, 28, 29, 30, 31, 32, 33, 34, 35, 36, 37, 38, 39, 40, 41, 42, 43,\n",
       "       44, 45, 46, 47, 48, 49])"
      ]
     },
     "execution_count": 134,
     "metadata": {},
     "output_type": "execute_result"
    }
   ],
   "source": [
    "T_fi=np.array(list(range(10,50,1)))\n",
    "T_fi"
   ]
  },
  {
   "cell_type": "code",
   "execution_count": 140,
   "id": "cfca59aa",
   "metadata": {},
   "outputs": [],
   "source": [
    "FR=0.9\n",
    "tau=0.885\n",
    "alpha=0.95\n",
    "GT=1000"
   ]
  },
  {
   "cell_type": "code",
   "execution_count": 151,
   "id": "53e03c99",
   "metadata": {},
   "outputs": [],
   "source": [
    "\n",
    "ni=FR*(tau*alpha)-(FR*U_L*(T_fi-T_a))/GT\n"
   ]
  },
  {
   "cell_type": "code",
   "execution_count": 149,
   "id": "e3a3cf5e",
   "metadata": {},
   "outputs": [
    {
     "data": {
      "text/plain": [
       "Text(0, 0.5, 'rendimento')"
      ]
     },
     "execution_count": 149,
     "metadata": {},
     "output_type": "execute_result"
    },
    {
     "data": {
      "image/png": "[encoded data removed]",
      "text/plain": [
       "<Figure size 432x288 with 1 Axes>"
      ]
     },
     "metadata": {
      "needs_background": "light"
     },
     "output_type": "display_data"
    }
   ],
   "source": [
    "plt.plot(ni,T_fi)\n",
    "\n",
    "plt.title('rendimento X (Tfi -Ta)/GT')\n",
    "plt.xlabel('(Tfi -Ta)/GT')\n",
    "plt.ylabel('rendimento')"
   ]
  },
  {
   "cell_type": "code",
   "execution_count": null,
   "id": "b3fa51cb",
   "metadata": {},
   "outputs": [],
   "source": []
  }
 ],
 "metadata": {
  "kernelspec": {
   "display_name": "Python 3",
   "language": "python",
   "name": "python3"
  },
  "language_info": {
   "codemirror_mode": {
    "name": "ipython",
    "version": 3
   },
   "file_extension": ".py",
   "mimetype": "text/x-python",
   "name": "python",
   "nbconvert_exporter": "python",
   "pygments_lexer": "ipython3",
   "version": "3.8.5"
  }
 },
 "nbformat": 4,
 "nbformat_minor": 5
}
